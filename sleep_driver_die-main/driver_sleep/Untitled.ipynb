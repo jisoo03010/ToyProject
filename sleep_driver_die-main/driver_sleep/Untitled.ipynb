{
 "cells": [
  {
   "cell_type": "code",
   "execution_count": 14,
   "id": "6583f555",
   "metadata": {},
   "outputs": [],
   "source": [
    "import pandas as pd\n",
    "import numpy as np\n",
    "import matplotlib.pyplot as plt\n",
    "import matplotlib\n",
    "from datetime import datetime \n",
    "from pandas_datareader import data\n",
    "matplotlib.rcParams['font.family']='Malgun Gothic'\n",
    "matplotlib.rcParams['axes.unicode_minus'] = False"
   ]
  },
  {
   "cell_type": "code",
   "execution_count": 17,
   "id": "91dd708d",
   "metadata": {},
   "outputs": [],
   "source": [
    "data1 = pd.read_csv(\"2016년 졸음운전 교통사고.csv\", encoding='euc-kr')\n",
    "data2 = pd.read_csv(\"2015년 졸음운전 교통사고.csv\", encoding='euc-kr')\n",
    "data3 = pd.read_csv(\"2014년 졸음운전 교통사고.csv\", encoding='euc-kr')"
   ]
  },
  {
   "cell_type": "code",
   "execution_count": 46,
   "id": "c650beef",
   "metadata": {},
   "outputs": [
    {
     "data": {
      "text/plain": [
       "0.04027949034114262"
      ]
     },
     "execution_count": 46,
     "metadata": {},
     "output_type": "execute_result"
    }
   ],
   "source": [
    "join_data = pd.concat([data1, data2, data3])\n",
    "join_data.set_index('구분', inplace=True)\n",
    "join_data\n",
    "\n",
    "\n",
    "ans2 = join_data.copy()\n",
    "ans2.index = pd.to_datetime(ans2.index, format='%Y년%m월')\n",
    "ans2.set_index([ans2.index.year, ans2.index.month], inplace=True)\n",
    "ans2.index.names = ['년도', '월']\n",
    "pd.DataFrame(ans2)\n",
    "\n",
    "#년도 및 월별 평균 사망자\n",
    "y = ans2.groupby('년도').mean()[['사망(명)']]\n",
    "x = ans2.groupby('월').mean()[['사망(명)']]\n",
    "\n",
    "\n",
    "#2016년 사고대비 사망율\n",
    "d_2016 = (ans2.loc[2016])['사망(명)'].sum()/(ans2.loc[2016])['사고(건)'].sum()\n",
    "d_2016"
   ]
  },
  {
   "cell_type": "code",
   "execution_count": 55,
   "id": "1fccafec",
   "metadata": {},
   "outputs": [
    {
     "data": {
      "text/plain": [
       "<AxesSubplot:xlabel='월'>"
      ]
     },
     "execution_count": 55,
     "metadata": {},
     "output_type": "execute_result"
    },
    {
     "data": {
      "image/png": "[encoded data removed]",
      "text/plain": [
       "<Figure size 432x288 with 1 Axes>"
      ]
     },
     "metadata": {
      "needs_background": "light"
     },
     "output_type": "display_data"
    }
   ],
   "source": [
    "ans2.loc[2014][['사망(명)', '부상(명)']].plot(kind='bar', rot=0)\n"
   ]
  },
  {
   "cell_type": "code",
   "execution_count": null,
   "id": "48c21b55",
   "metadata": {},
   "outputs": [],
   "source": []
  }
 ],
 "metadata": {
  "kernelspec": {
   "display_name": "Python 3 (ipykernel)",
   "language": "python",
   "name": "python3"
  },
  "language_info": {
   "codemirror_mode": {
    "name": "ipython",
    "version": 3
   },
   "file_extension": ".py",
   "mimetype": "text/x-python",
   "name": "python",
   "nbconvert_exporter": "python",
   "pygments_lexer": "ipython3",
   "version": "3.10.5"
  }
 },
 "nbformat": 4,
 "nbformat_minor": 5
}
